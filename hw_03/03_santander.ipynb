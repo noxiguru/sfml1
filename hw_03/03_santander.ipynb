{
 "cells": [
  {
   "cell_type": "code",
   "execution_count": 1,
   "metadata": {},
   "outputs": [],
   "source": [
    "%matplotlib inline\n",
    "import pandas as pd\n"
   ]
  },
  {
   "cell_type": "code",
   "execution_count": 2,
   "metadata": {},
   "outputs": [],
   "source": [
    "train = pd.read_csv('03_santander_train.csv', index_col='ID')"
   ]
  },
  {
   "cell_type": "code",
   "execution_count": 3,
   "metadata": {},
   "outputs": [],
   "source": [
    "train.head()\n",
    "\n",
    "train_y = train['TARGET']\n",
    "train = train.drop('TARGET',axis=1)\n"
   ]
  },
  {
   "cell_type": "code",
   "execution_count": 4,
   "metadata": {},
   "outputs": [
    {
     "data": {
      "text/plain": [
       "<matplotlib.axes._subplots.AxesSubplot at 0x7f5224d104a8>"
      ]
     },
     "execution_count": 4,
     "metadata": {},
     "output_type": "execute_result"
    },
    {
     "data": {
      "image/png": "[encoded data removed]",
      "text/plain": [
       "<matplotlib.figure.Figure at 0x7f5271e15e48>"
      ]
     },
     "metadata": {},
     "output_type": "display_data"
    }
   ],
   "source": [
    "# var38\n",
    "\n",
    "import missingno as msno\n",
    "\n",
    "msno.matrix(train, sort='ascending')"
   ]
  },
  {
   "cell_type": "code",
   "execution_count": 5,
   "metadata": {},
   "outputs": [],
   "source": [
    "test = pd.read_csv('03_santander_test.csv', index_col='ID')\n",
    "test = test[train.columns]\n",
    "#msno.matrix(test, sort='ascending')"
   ]
  },
  {
   "cell_type": "code",
   "execution_count": 6,
   "metadata": {},
   "outputs": [],
   "source": [
    "y = list(train_y)"
   ]
  },
  {
   "cell_type": "code",
   "execution_count": 7,
   "metadata": {},
   "outputs": [
    {
     "name": "stdout",
     "output_type": "stream",
     "text": [
      "<class 'pandas.core.frame.DataFrame'>\n",
      "Int64Index: 76020 entries, 1 to 151838\n",
      "Data columns (total 369 columns):\n",
      "var3                             76020 non-null int64\n",
      "var15                            76020 non-null int64\n",
      "imp_ent_var16_ult1               76020 non-null float64\n",
      "imp_op_var39_comer_ult1          76020 non-null float64\n",
      "imp_op_var39_comer_ult3          76020 non-null float64\n",
      "imp_op_var40_comer_ult1          76020 non-null float64\n",
      "imp_op_var40_comer_ult3          76020 non-null float64\n",
      "imp_op_var40_efect_ult1          76020 non-null float64\n",
      "imp_op_var40_efect_ult3          76020 non-null float64\n",
      "imp_op_var40_ult1                76020 non-null float64\n",
      "imp_op_var41_comer_ult1          76020 non-null float64\n",
      "imp_op_var41_comer_ult3          76020 non-null float64\n",
      "imp_op_var41_efect_ult1          76020 non-null float64\n",
      "imp_op_var41_efect_ult3          76020 non-null float64\n",
      "imp_op_var41_ult1                76020 non-null float64\n",
      "imp_op_var39_efect_ult1          76020 non-null float64\n",
      "imp_op_var39_efect_ult3          76020 non-null float64\n",
      "imp_op_var39_ult1                76020 non-null float64\n",
      "imp_sal_var16_ult1               76020 non-null float64\n",
      "ind_var1_0                       76020 non-null int64\n",
      "ind_var1                         76020 non-null int64\n",
      "ind_var2_0                       76020 non-null int64\n",
      "ind_var2                         76020 non-null int64\n",
      "ind_var5_0                       76020 non-null int64\n",
      "ind_var5                         76020 non-null int64\n",
      "ind_var6_0                       76020 non-null int64\n",
      "ind_var6                         76020 non-null int64\n",
      "ind_var8_0                       76020 non-null int64\n",
      "ind_var8                         76020 non-null int64\n",
      "ind_var12_0                      76020 non-null int64\n",
      "ind_var12                        76020 non-null int64\n",
      "ind_var13_0                      76020 non-null int64\n",
      "ind_var13_corto_0                76020 non-null int64\n",
      "ind_var13_corto                  76020 non-null int64\n",
      "ind_var13_largo_0                76020 non-null int64\n",
      "ind_var13_largo                  76020 non-null int64\n",
      "ind_var13_medio_0                76020 non-null int64\n",
      "ind_var13_medio                  76020 non-null int64\n",
      "ind_var13                        76020 non-null int64\n",
      "ind_var14_0                      76020 non-null int64\n",
      "ind_var14                        76020 non-null int64\n",
      "ind_var17_0                      76020 non-null int64\n",
      "ind_var17                        76020 non-null int64\n",
      "ind_var18_0                      76020 non-null int64\n",
      "ind_var18                        76020 non-null int64\n",
      "ind_var19                        76020 non-null int64\n",
      "ind_var20_0                      76020 non-null int64\n",
      "ind_var20                        76020 non-null int64\n",
      "ind_var24_0                      76020 non-null int64\n",
      "ind_var24                        76020 non-null int64\n",
      "ind_var25_cte                    76020 non-null int64\n",
      "ind_var26_0                      76020 non-null int64\n",
      "ind_var26_cte                    76020 non-null int64\n",
      "ind_var26                        76020 non-null int64\n",
      "ind_var25_0                      76020 non-null int64\n",
      "ind_var25                        76020 non-null int64\n",
      "ind_var27_0                      76020 non-null int64\n",
      "ind_var28_0                      76020 non-null int64\n",
      "ind_var28                        76020 non-null int64\n",
      "ind_var27                        76020 non-null int64\n",
      "ind_var29_0                      76020 non-null int64\n",
      "ind_var29                        76020 non-null int64\n",
      "ind_var30_0                      76020 non-null int64\n",
      "ind_var30                        76020 non-null int64\n",
      "ind_var31_0                      76020 non-null int64\n",
      "ind_var31                        76020 non-null int64\n",
      "ind_var32_cte                    76020 non-null int64\n",
      "ind_var32_0                      76020 non-null int64\n",
      "ind_var32                        76020 non-null int64\n",
      "ind_var33_0                      76020 non-null int64\n",
      "ind_var33                        76020 non-null int64\n",
      "ind_var34_0                      76020 non-null int64\n",
      "ind_var34                        76020 non-null int64\n",
      "ind_var37_cte                    76020 non-null int64\n",
      "ind_var37_0                      76020 non-null int64\n",
      "ind_var37                        76020 non-null int64\n",
      "ind_var39_0                      76020 non-null int64\n",
      "ind_var40_0                      76020 non-null int64\n",
      "ind_var40                        76020 non-null int64\n",
      "ind_var41_0                      76020 non-null int64\n",
      "ind_var41                        76020 non-null int64\n",
      "ind_var39                        76020 non-null int64\n",
      "ind_var44_0                      76020 non-null int64\n",
      "ind_var44                        76020 non-null int64\n",
      "ind_var46_0                      76020 non-null int64\n",
      "ind_var46                        76020 non-null int64\n",
      "num_var1_0                       76020 non-null int64\n",
      "num_var1                         76020 non-null int64\n",
      "num_var4                         76020 non-null int64\n",
      "num_var5_0                       76020 non-null int64\n",
      "num_var5                         76020 non-null int64\n",
      "num_var6_0                       76020 non-null int64\n",
      "num_var6                         76020 non-null int64\n",
      "num_var8_0                       76020 non-null int64\n",
      "num_var8                         76020 non-null int64\n",
      "num_var12_0                      76020 non-null int64\n",
      "num_var12                        76020 non-null int64\n",
      "num_var13_0                      76020 non-null int64\n",
      "num_var13_corto_0                76020 non-null int64\n",
      "num_var13_corto                  76020 non-null int64\n",
      "num_var13_largo_0                76020 non-null int64\n",
      "num_var13_largo                  76020 non-null int64\n",
      "num_var13_medio_0                76020 non-null int64\n",
      "num_var13_medio                  76020 non-null int64\n",
      "num_var13                        76020 non-null int64\n",
      "num_var14_0                      76020 non-null int64\n",
      "num_var14                        76020 non-null int64\n",
      "num_var17_0                      76020 non-null int64\n",
      "num_var17                        76020 non-null int64\n",
      "num_var18_0                      76020 non-null int64\n",
      "num_var18                        76020 non-null int64\n",
      "num_var20_0                      76020 non-null int64\n",
      "num_var20                        76020 non-null int64\n",
      "num_var24_0                      76020 non-null int64\n",
      "num_var24                        76020 non-null int64\n",
      "num_var26_0                      76020 non-null int64\n",
      "num_var26                        76020 non-null int64\n",
      "num_var25_0                      76020 non-null int64\n",
      "num_var25                        76020 non-null int64\n",
      "num_op_var40_hace2               76020 non-null int64\n",
      "num_op_var40_hace3               76020 non-null int64\n",
      "num_op_var40_ult1                76020 non-null int64\n",
      "num_op_var40_ult3                76020 non-null int64\n",
      "num_op_var41_hace2               76020 non-null int64\n",
      "num_op_var41_hace3               76020 non-null int64\n",
      "num_op_var41_ult1                76020 non-null int64\n",
      "num_op_var41_ult3                76020 non-null int64\n",
      "num_op_var39_hace2               76020 non-null int64\n",
      "num_op_var39_hace3               76020 non-null int64\n",
      "num_op_var39_ult1                76020 non-null int64\n",
      "num_op_var39_ult3                76020 non-null int64\n",
      "num_var27_0                      76020 non-null int64\n",
      "num_var28_0                      76020 non-null int64\n",
      "num_var28                        76020 non-null int64\n",
      "num_var27                        76020 non-null int64\n",
      "num_var29_0                      76020 non-null int64\n",
      "num_var29                        76020 non-null int64\n",
      "num_var30_0                      76020 non-null int64\n",
      "num_var30                        76020 non-null int64\n",
      "num_var31_0                      76020 non-null int64\n",
      "num_var31                        76020 non-null int64\n",
      "num_var32_0                      76020 non-null int64\n",
      "num_var32                        76020 non-null int64\n",
      "num_var33_0                      76020 non-null int64\n",
      "num_var33                        76020 non-null int64\n",
      "num_var34_0                      76020 non-null int64\n",
      "num_var34                        76020 non-null int64\n",
      "num_var35                        76020 non-null int64\n",
      "num_var37_med_ult2               76020 non-null int64\n",
      "num_var37_0                      76020 non-null int64\n",
      "num_var37                        76020 non-null int64\n",
      "num_var39_0                      76020 non-null int64\n",
      "num_var40_0                      76020 non-null int64\n",
      "num_var40                        76020 non-null int64\n",
      "num_var41_0                      76020 non-null int64\n",
      "num_var41                        76020 non-null int64\n",
      "num_var39                        76020 non-null int64\n",
      "num_var42_0                      76020 non-null int64\n",
      "num_var42                        76020 non-null int64\n",
      "num_var44_0                      76020 non-null int64\n",
      "num_var44                        76020 non-null int64\n",
      "num_var46_0                      76020 non-null int64\n",
      "num_var46                        76020 non-null int64\n",
      "saldo_var1                       76020 non-null float64\n",
      "saldo_var5                       76020 non-null float64\n",
      "saldo_var6                       76020 non-null float64\n",
      "saldo_var8                       76020 non-null float64\n",
      "saldo_var12                      76020 non-null float64\n",
      "saldo_var13_corto                76020 non-null float64\n",
      "saldo_var13_largo                76020 non-null float64\n",
      "saldo_var13_medio                76020 non-null int64\n",
      "saldo_var13                      76020 non-null float64\n",
      "saldo_var14                      76020 non-null float64\n",
      "saldo_var17                      76020 non-null float64\n",
      "saldo_var18                      76020 non-null int64\n",
      "saldo_var20                      76020 non-null float64\n",
      "saldo_var24                      76020 non-null float64\n",
      "saldo_var26                      76020 non-null float64\n",
      "saldo_var25                      76020 non-null float64\n",
      "saldo_var28                      76020 non-null int64\n",
      "saldo_var27                      76020 non-null int64\n",
      "saldo_var29                      76020 non-null float64\n",
      "saldo_var30                      76020 non-null float64\n",
      "saldo_var31                      76020 non-null float64\n",
      "saldo_var32                      76020 non-null float64\n",
      "saldo_var33                      76020 non-null float64\n",
      "saldo_var34                      76020 non-null int64\n",
      "saldo_var37                      76020 non-null float64\n",
      "saldo_var40                      76020 non-null float64\n",
      "saldo_var41                      76020 non-null int64\n",
      "saldo_var42                      76020 non-null float64\n",
      "saldo_var44                      76020 non-null float64\n",
      "saldo_var46                      76020 non-null int64\n",
      "var36                            76020 non-null int64\n",
      "delta_imp_amort_var18_1y3        76020 non-null int64\n",
      "delta_imp_amort_var34_1y3        76020 non-null int64\n",
      "delta_imp_aport_var13_1y3        76020 non-null float64\n",
      "delta_imp_aport_var17_1y3        76020 non-null float64\n",
      "delta_imp_aport_var33_1y3        76020 non-null float64\n",
      "delta_imp_compra_var44_1y3       76020 non-null float64\n",
      "delta_imp_reemb_var13_1y3        76020 non-null int64\n",
      "delta_imp_reemb_var17_1y3        76020 non-null int64\n",
      "delta_imp_reemb_var33_1y3        76020 non-null int64\n",
      "delta_imp_trasp_var17_in_1y3     76020 non-null int64\n",
      "delta_imp_trasp_var17_out_1y3    76020 non-null int64\n",
      "delta_imp_trasp_var33_in_1y3     76020 non-null int64\n",
      "delta_imp_trasp_var33_out_1y3    76020 non-null int64\n",
      "delta_imp_venta_var44_1y3        76020 non-null float64\n",
      "delta_num_aport_var13_1y3        76020 non-null float64\n",
      "delta_num_aport_var17_1y3        76020 non-null float64\n",
      "delta_num_aport_var33_1y3        76020 non-null float64\n",
      "delta_num_compra_var44_1y3       76020 non-null float64\n",
      "delta_num_reemb_var13_1y3        76020 non-null int64\n",
      "delta_num_reemb_var17_1y3        76020 non-null int64\n",
      "delta_num_reemb_var33_1y3        76020 non-null int64\n",
      "delta_num_trasp_var17_in_1y3     76020 non-null int64\n",
      "delta_num_trasp_var17_out_1y3    76020 non-null int64\n",
      "delta_num_trasp_var33_in_1y3     76020 non-null int64\n",
      "delta_num_trasp_var33_out_1y3    76020 non-null int64\n",
      "delta_num_venta_var44_1y3        76020 non-null float64\n",
      "imp_amort_var18_hace3            76020 non-null int64\n",
      "imp_amort_var18_ult1             76020 non-null float64\n",
      "imp_amort_var34_hace3            76020 non-null int64\n",
      "imp_amort_var34_ult1             76020 non-null float64\n",
      "imp_aport_var13_hace3            76020 non-null float64\n",
      "imp_aport_var13_ult1             76020 non-null float64\n",
      "imp_aport_var17_hace3            76020 non-null float64\n",
      "imp_aport_var17_ult1             76020 non-null float64\n",
      "imp_aport_var33_hace3            76020 non-null int64\n",
      "imp_aport_var33_ult1             76020 non-null int64\n",
      "imp_var7_emit_ult1               76020 non-null float64\n",
      "imp_var7_recib_ult1              76020 non-null float64\n",
      "imp_compra_var44_hace3           76020 non-null float64\n",
      "imp_compra_var44_ult1            76020 non-null float64\n",
      "imp_reemb_var13_hace3            76020 non-null int64\n",
      "imp_reemb_var13_ult1             76020 non-null float64\n",
      "imp_reemb_var17_hace3            76020 non-null float64\n",
      "imp_reemb_var17_ult1             76020 non-null float64\n",
      "imp_reemb_var33_hace3            76020 non-null int64\n",
      "imp_reemb_var33_ult1             76020 non-null int64\n",
      "imp_var43_emit_ult1              76020 non-null float64\n",
      "imp_trans_var37_ult1             76020 non-null float64\n",
      "imp_trasp_var17_in_hace3         76020 non-null float64\n",
      "imp_trasp_var17_in_ult1          76020 non-null float64\n",
      "imp_trasp_var17_out_hace3        76020 non-null int64\n",
      "imp_trasp_var17_out_ult1         76020 non-null float64\n",
      "imp_trasp_var33_in_hace3         76020 non-null float64\n",
      "imp_trasp_var33_in_ult1          76020 non-null float64\n",
      "imp_trasp_var33_out_hace3        76020 non-null int64\n",
      "imp_trasp_var33_out_ult1         76020 non-null int64\n",
      "imp_venta_var44_hace3            76020 non-null float64\n",
      "imp_venta_var44_ult1             76020 non-null float64\n",
      "ind_var7_emit_ult1               76020 non-null int64\n",
      "ind_var7_recib_ult1              76020 non-null int64\n",
      "ind_var10_ult1                   76020 non-null int64\n",
      "ind_var10cte_ult1                76020 non-null int64\n",
      "ind_var9_cte_ult1                76020 non-null int64\n",
      "ind_var9_ult1                    76020 non-null int64\n",
      "ind_var43_emit_ult1              76020 non-null int64\n",
      "ind_var43_recib_ult1             76020 non-null int64\n",
      "var21                            76020 non-null int64\n",
      "num_var2_0_ult1                  76020 non-null int64\n",
      "num_var2_ult1                    76020 non-null int64\n",
      "num_aport_var13_hace3            76020 non-null int64\n",
      "num_aport_var13_ult1             76020 non-null int64\n",
      "num_aport_var17_hace3            76020 non-null int64\n",
      "num_aport_var17_ult1             76020 non-null int64\n",
      "num_aport_var33_hace3            76020 non-null int64\n",
      "num_aport_var33_ult1             76020 non-null int64\n",
      "num_var7_emit_ult1               76020 non-null int64\n",
      "num_var7_recib_ult1              76020 non-null int64\n",
      "num_compra_var44_hace3           76020 non-null int64\n",
      "num_compra_var44_ult1            76020 non-null int64\n",
      "num_ent_var16_ult1               76020 non-null int64\n",
      "num_var22_hace2                  76020 non-null int64\n",
      "num_var22_hace3                  76020 non-null int64\n",
      "num_var22_ult1                   76020 non-null int64\n",
      "num_var22_ult3                   76020 non-null int64\n",
      "num_med_var22_ult3               76020 non-null int64\n",
      "num_med_var45_ult3               76020 non-null int64\n",
      "num_meses_var5_ult3              76020 non-null int64\n",
      "num_meses_var8_ult3              76020 non-null int64\n",
      "num_meses_var12_ult3             76020 non-null int64\n",
      "num_meses_var13_corto_ult3       76020 non-null int64\n",
      "num_meses_var13_largo_ult3       76020 non-null int64\n",
      "num_meses_var13_medio_ult3       76020 non-null int64\n",
      "num_meses_var17_ult3             76020 non-null int64\n",
      "num_meses_var29_ult3             76020 non-null int64\n",
      "num_meses_var33_ult3             76020 non-null int64\n",
      "num_meses_var39_vig_ult3         76020 non-null int64\n",
      "num_meses_var44_ult3             76020 non-null int64\n",
      "num_op_var39_comer_ult1          76020 non-null int64\n",
      "num_op_var39_comer_ult3          76020 non-null int64\n",
      "num_op_var40_comer_ult1          76020 non-null int64\n",
      "num_op_var40_comer_ult3          76020 non-null int64\n",
      "num_op_var40_efect_ult1          76020 non-null int64\n",
      "num_op_var40_efect_ult3          76020 non-null int64\n",
      "num_op_var41_comer_ult1          76020 non-null int64\n",
      "num_op_var41_comer_ult3          76020 non-null int64\n",
      "num_op_var41_efect_ult1          76020 non-null int64\n",
      "num_op_var41_efect_ult3          76020 non-null int64\n",
      "num_op_var39_efect_ult1          76020 non-null int64\n",
      "num_op_var39_efect_ult3          76020 non-null int64\n",
      "num_reemb_var13_hace3            76020 non-null int64\n",
      "num_reemb_var13_ult1             76020 non-null int64\n",
      "num_reemb_var17_hace3            76020 non-null int64\n",
      "num_reemb_var17_ult1             76020 non-null int64\n",
      "num_reemb_var33_hace3            76020 non-null int64\n",
      "num_reemb_var33_ult1             76020 non-null int64\n",
      "num_sal_var16_ult1               76020 non-null int64\n",
      "num_var43_emit_ult1              76020 non-null int64\n",
      "num_var43_recib_ult1             76020 non-null int64\n",
      "num_trasp_var11_ult1             76020 non-null int64\n",
      "num_trasp_var17_in_hace3         76020 non-null int64\n",
      "num_trasp_var17_in_ult1          76020 non-null int64\n",
      "num_trasp_var17_out_hace3        76020 non-null int64\n",
      "num_trasp_var17_out_ult1         76020 non-null int64\n",
      "num_trasp_var33_in_hace3         76020 non-null int64\n",
      "num_trasp_var33_in_ult1          76020 non-null int64\n",
      "num_trasp_var33_out_hace3        76020 non-null int64\n",
      "num_trasp_var33_out_ult1         76020 non-null int64\n",
      "num_venta_var44_hace3            76020 non-null int64\n",
      "num_venta_var44_ult1             76020 non-null int64\n",
      "num_var45_hace2                  76020 non-null int64\n",
      "num_var45_hace3                  76020 non-null int64\n",
      "num_var45_ult1                   76020 non-null int64\n",
      "num_var45_ult3                   76020 non-null int64\n",
      "saldo_var2_ult1                  76020 non-null int64\n",
      "saldo_medio_var5_hace2           76020 non-null float64\n",
      "saldo_medio_var5_hace3           76020 non-null float64\n",
      "saldo_medio_var5_ult1            76020 non-null float64\n",
      "saldo_medio_var5_ult3            76020 non-null float64\n",
      "saldo_medio_var8_hace2           76020 non-null float64\n",
      "saldo_medio_var8_hace3           76020 non-null float64\n",
      "saldo_medio_var8_ult1            76020 non-null float64\n",
      "saldo_medio_var8_ult3            76020 non-null float64\n",
      "saldo_medio_var12_hace2          76020 non-null float64\n",
      "saldo_medio_var12_hace3          76020 non-null float64\n",
      "saldo_medio_var12_ult1           76020 non-null float64\n",
      "saldo_medio_var12_ult3           76020 non-null float64\n",
      "saldo_medio_var13_corto_hace2    76020 non-null float64\n",
      "saldo_medio_var13_corto_hace3    76020 non-null float64\n",
      "saldo_medio_var13_corto_ult1     76020 non-null float64\n",
      "saldo_medio_var13_corto_ult3     76020 non-null float64\n",
      "saldo_medio_var13_largo_hace2    76020 non-null float64\n",
      "saldo_medio_var13_largo_hace3    76020 non-null float64\n",
      "saldo_medio_var13_largo_ult1     76020 non-null float64\n",
      "saldo_medio_var13_largo_ult3     76020 non-null float64\n",
      "saldo_medio_var13_medio_hace2    76020 non-null float64\n",
      "saldo_medio_var13_medio_hace3    76020 non-null int64\n",
      "saldo_medio_var13_medio_ult1     76020 non-null int64\n",
      "saldo_medio_var13_medio_ult3     76020 non-null float64\n",
      "saldo_medio_var17_hace2          76020 non-null float64\n",
      "saldo_medio_var17_hace3          76020 non-null float64\n",
      "saldo_medio_var17_ult1           76020 non-null float64\n",
      "saldo_medio_var17_ult3           76020 non-null float64\n",
      "saldo_medio_var29_hace2          76020 non-null float64\n",
      "saldo_medio_var29_hace3          76020 non-null float64\n",
      "saldo_medio_var29_ult1           76020 non-null float64\n",
      "saldo_medio_var29_ult3           76020 non-null float64\n",
      "saldo_medio_var33_hace2          76020 non-null float64\n",
      "saldo_medio_var33_hace3          76020 non-null float64\n",
      "saldo_medio_var33_ult1           76020 non-null float64\n",
      "saldo_medio_var33_ult3           76020 non-null float64\n",
      "saldo_medio_var44_hace2          76020 non-null float64\n",
      "saldo_medio_var44_hace3          76020 non-null float64\n",
      "saldo_medio_var44_ult1           76020 non-null float64\n",
      "saldo_medio_var44_ult3           76020 non-null float64\n",
      "var38                            76020 non-null float64\n",
      "dtypes: float64(111), int64(258)\n",
      "memory usage: 214.6 MB\n"
     ]
    }
   ],
   "source": [
    "train.info(verbose=True, memory_usage=True, null_counts=True)"
   ]
  },
  {
   "cell_type": "code",
   "execution_count": 8,
   "metadata": {},
   "outputs": [],
   "source": [
    "from sklearn.model_selection import train_test_split"
   ]
  },
  {
   "cell_type": "code",
   "execution_count": 9,
   "metadata": {},
   "outputs": [],
   "source": [
    "X_train, X_test, y_train, y_test = train_test_split(train, y, test_size=0.33, random_state=42)"
   ]
  },
  {
   "cell_type": "code",
   "execution_count": 10,
   "metadata": {},
   "outputs": [],
   "source": [
    "from sklearn.tree import DecisionTreeClassifier\n",
    "from sklearn.neighbors import KNeighborsClassifier\n",
    "from sklearn.linear_model import LogisticRegression"
   ]
  },
  {
   "cell_type": "code",
   "execution_count": 11,
   "metadata": {},
   "outputs": [],
   "source": [
    "from matplotlib import pyplot as plt \n",
    "from tqdm import tqdm "
   ]
  },
  {
   "cell_type": "code",
   "execution_count": 12,
   "metadata": {},
   "outputs": [
    {
     "name": "stderr",
     "output_type": "stream",
     "text": [
      "100%|██████████| 14/14 [00:15<00:00,  1.08s/it]\n"
     ]
    },
    {
     "data": {
      "text/plain": [
       "[<matplotlib.lines.Line2D at 0x7f5248a25588>]"
      ]
     },
     "execution_count": 12,
     "metadata": {},
     "output_type": "execute_result"
    },
    {
     "data": {
      "image/png": "[encoded data removed]",
      "text/plain": [
       "<matplotlib.figure.Figure at 0x7f5248a252b0>"
      ]
     },
     "metadata": {},
     "output_type": "display_data"
    }
   ],
   "source": [
    "from sklearn.metrics import roc_auc_score, roc_curve\n",
    "\n",
    "y_res = []\n",
    "x_res = []\n",
    "for i in tqdm(range(14)):\n",
    "    dtc = DecisionTreeClassifier(max_depth=i+1)\n",
    "    dtc.fit(X_train, y_train)\n",
    "    predict = dtc.predict_proba(X_test)\n",
    "    roc = roc_auc_score(y_test, predict[:,1])\n",
    "    \n",
    "    x_res.append(i)\n",
    "    y_res.append(roc)\n",
    "    \n",
    "fig = plt.figure()\n",
    "fig.suptitle('Change ROC of max_depth')\n",
    "plt.xlabel('max_depth')\n",
    "plt.ylabel('ROC')    \n",
    "plt.plot(x_res,y_res)    "
   ]
  },
  {
   "cell_type": "code",
   "execution_count": 13,
   "metadata": {},
   "outputs": [],
   "source": [
    "X_train_n = X_train.iloc[:,0:3]\n",
    "X_test_n  = X_test.iloc[:,0:3]\n",
    "#"
   ]
  },
  {
   "cell_type": "code",
   "execution_count": 14,
   "metadata": {},
   "outputs": [
    {
     "name": "stderr",
     "output_type": "stream",
     "text": [
      "100%|██████████| 8/8 [00:37<00:00,  4.69s/it]\n"
     ]
    },
    {
     "data": {
      "text/plain": [
       "[<matplotlib.lines.Line2D at 0x7f5248a25390>]"
      ]
     },
     "execution_count": 14,
     "metadata": {},
     "output_type": "execute_result"
    },
    {
     "data": {
      "image/png": "[encoded data removed]",
      "text/plain": [
       "<matplotlib.figure.Figure at 0x7f52489c47b8>"
      ]
     },
     "metadata": {},
     "output_type": "display_data"
    }
   ],
   "source": [
    " \n",
    "y_res = []\n",
    "x_res = []\n",
    "for i in tqdm(range(8)):\n",
    "    dtc = KNeighborsClassifier(n_neighbors=i+1) \n",
    "    dtc.fit(X_train_n, y_train)\n",
    "    predict = dtc.predict_proba(X_test_n)\n",
    "    roc = roc_auc_score(y_test, predict[:,1])\n",
    "    \n",
    "    x_res.append(i)\n",
    "    y_res.append(roc)\n",
    "    \n",
    "fig = plt.figure()\n",
    "fig.suptitle('Change ROC of n_neighbors')\n",
    "plt.xlabel('n_neighbors')\n",
    "plt.ylabel('ROC')    \n",
    "plt.plot(x_res,y_res) "
   ]
  },
  {
   "cell_type": "code",
   "execution_count": 15,
   "metadata": {},
   "outputs": [
    {
     "name": "stderr",
     "output_type": "stream",
     "text": [
      "100%|██████████| 6/6 [00:12<00:00,  2.11s/it]\n"
     ]
    },
    {
     "data": {
      "text/plain": [
       "[<matplotlib.lines.Line2D at 0x7f52489c4828>]"
      ]
     },
     "execution_count": 15,
     "metadata": {},
     "output_type": "execute_result"
    },
    {
     "data": {
      "image/png": "[encoded data removed]",
      "text/plain": [
       "<matplotlib.figure.Figure at 0x7f52489c4588>"
      ]
     },
     "metadata": {},
     "output_type": "display_data"
    }
   ],
   "source": [
    "\n",
    "    \n",
    "res_x = []\n",
    "res_y = []\n",
    "\n",
    "for i in tqdm(range(6)):  \n",
    "    loc = LogisticRegression(C=(i+1)*10)\n",
    "    loc.fit(X_train,y_train)\n",
    "    predict = loc.predict_proba(X_test)\n",
    "    roc = roc_auc_score(y_test, predict[:,1])\n",
    "    res_x.append(i)\n",
    "    res_y.append(roc) \n",
    "    \n",
    "fig = plt.figure()\n",
    "fig.suptitle('Change ROC of C penalty=l2 ')\n",
    "plt.xlabel('C')\n",
    "plt.ylabel('ROC')    \n",
    "plt.plot(x_res,y_res)   "
   ]
  },
  {
   "cell_type": "code",
   "execution_count": 18,
   "metadata": {},
   "outputs": [
    {
     "name": "stderr",
     "output_type": "stream",
     "text": [
      "100%|██████████| 6/6 [00:01<00:00,  5.81it/s]\n"
     ]
    },
    {
     "data": {
      "text/plain": [
       "[<matplotlib.lines.Line2D at 0x7f5248149048>]"
      ]
     },
     "execution_count": 18,
     "metadata": {},
     "output_type": "execute_result"
    },
    {
     "data": {
      "image/png": "[encoded data removed]",
      "text/plain": [
       "<matplotlib.figure.Figure at 0x7f52480934e0>"
      ]
     },
     "metadata": {},
     "output_type": "display_data"
    }
   ],
   "source": [
    "\n",
    "\n",
    "res_x = []\n",
    "res_y = []\n",
    "\n",
    "for i in tqdm(range(6)):   \n",
    "    loc = LogisticRegression(C=(i+1)*10, penalty='l1')\n",
    "    loc.fit(X_train_n,y_train)\n",
    "    predict = loc.predict_proba(X_test_n)\n",
    "    roc = roc_auc_score(y_test, predict[:,1])\n",
    "    res_x.append(i)\n",
    "    res_y.append(roc) \n",
    "    \n",
    "fig = plt.figure()\n",
    "fig.suptitle('Change ROC of C penalty=l1')\n",
    "plt.xlabel('C')\n",
    "plt.ylabel('ROC')    \n",
    "plt.plot(x_res,y_res) "
   ]
  },
  {
   "cell_type": "code",
   "execution_count": null,
   "metadata": {},
   "outputs": [],
   "source": [
    " \n",
    " \n",
    "\n",
    "\n",
    " "
   ]
  }
 ],
 "metadata": {
  "kernelspec": {
   "display_name": "Python 3",
   "language": "python",
   "name": "python3"
  },
  "language_info": {
   "codemirror_mode": {
    "name": "ipython",
    "version": 3
   },
   "file_extension": ".py",
   "mimetype": "text/x-python",
   "name": "python",
   "nbconvert_exporter": "python",
   "pygments_lexer": "ipython3",
   "version": "3.5.2"
  }
 },
 "nbformat": 4,
 "nbformat_minor": 2
}
